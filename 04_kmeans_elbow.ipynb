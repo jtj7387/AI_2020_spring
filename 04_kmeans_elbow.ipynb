{
  "nbformat": 4,
  "nbformat_minor": 0,
  "metadata": {
    "colab": {
      "name": "04_kmeans_elbow.ipynb",
      "provenance": [],
      "collapsed_sections": [],
      "authorship_tag": "ABX9TyOkvHnTCUTkSBKZJXWrBsUG",
      "include_colab_link": true
    },
    "kernelspec": {
      "name": "python3",
      "display_name": "Python 3"
    }
  },
  "cells": [
    {
      "cell_type": "markdown",
      "metadata": {
        "id": "view-in-github",
        "colab_type": "text"
      },
      "source": [
        "<a href=\"https://colab.research.google.com/github/jtj7387/AI_2020_spring/blob/master/04_kmeans_elbow.ipynb\" target=\"_parent\"><img src=\"https://colab.research.google.com/assets/colab-badge.svg\" alt=\"Open In Colab\"/></a>"
      ]
    },
    {
      "cell_type": "code",
      "metadata": {
        "id": "uf-XgBLz6KFw",
        "colab_type": "code",
        "colab": {
          "base_uri": "https://localhost:8080/",
          "height": 75
        },
        "outputId": "eaea36ff-de35-4de4-8ffe-2e3d567936ac"
      },
      "source": [
        "import matplotlib.pyplot as plt # 다음과 같은 명령어로 그림을 그릴 수 있다.\n",
        "from sklearn.cluster import KMeans  #데이터를 처리하고 사용되는 외부 라이브러리 sklearn\n",
        "from sklearn.datasets.samples_generator import make_blobs # sklearn에 있는 datasets의 샘플 생성기 중 덩어리를 만드는 기능을 불러온다.\n",
        "import numpy as np  #numpy를 np로 지칭                         "
      ],
      "execution_count": 1,
      "outputs": [
        {
          "output_type": "stream",
          "text": [
            "/usr/local/lib/python3.6/dist-packages/sklearn/utils/deprecation.py:144: FutureWarning: The sklearn.datasets.samples_generator module is  deprecated in version 0.22 and will be removed in version 0.24. The corresponding classes / functions should instead be imported from sklearn.datasets. Anything that cannot be imported from sklearn.datasets is now part of the private API.\n",
            "  warnings.warn(message, FutureWarning)\n"
          ],
          "name": "stderr"
        }
      ]
    },
    {
      "cell_type": "code",
      "metadata": {
        "id": "0VDzhlw46SlT",
        "colab_type": "code",
        "colab": {}
      },
      "source": [
        "data, _ = make_blobs(n_samples=1000, centers=5, cluster_std=0.60, random_state=0) # "
      ],
      "execution_count": 2,
      "outputs": []
    },
    {
      "cell_type": "code",
      "metadata": {
        "id": "NM39_klF6aDm",
        "colab_type": "code",
        "colab": {
          "base_uri": "https://localhost:8080/",
          "height": 36
        },
        "outputId": "6c865775-10f1-4360-acdb-9187302a915a"
      },
      "source": [
        "data.shape #data의 형태를 확인한다"
      ],
      "execution_count": 3,
      "outputs": [
        {
          "output_type": "execute_result",
          "data": {
            "text/plain": [
              "(1000, 2)"
            ]
          },
          "metadata": {
            "tags": []
          },
          "execution_count": 3
        }
      ]
    },
    {
      "cell_type": "code",
      "metadata": {
        "id": "WOfBpgHQ6mZy",
        "colab_type": "code",
        "colab": {
          "base_uri": "https://localhost:8080/",
          "height": 36
        },
        "outputId": "db8f9d75-ae48-47ff-d4d2-55f191b11ceb"
      },
      "source": [
        "%%time  \n",
        "kmeans = KMeans(n_clusters=5)\n",
        "kmeans.fit(data) # cluster를 진행하는데 걸리는 시간을 의미"
      ],
      "execution_count": 4,
      "outputs": [
        {
          "output_type": "stream",
          "text": [
            "UsageError: Can't use statement directly after '%%time'!\n"
          ],
          "name": "stderr"
        }
      ]
    },
    {
      "cell_type": "code",
      "metadata": {
        "id": "EW0LuR_-6qlK",
        "colab_type": "code",
        "colab": {}
      },
      "source": [
        "centroids = kmeans.cluster_centers_ # centroids를 다음과 같이 정의한다\n",
        "print(centroids) #cluster의 중심점을 표시한다"
      ],
      "execution_count": null,
      "outputs": []
    },
    {
      "cell_type": "code",
      "metadata": {
        "id": "ANrgmoxa6fpO",
        "colab_type": "code",
        "colab": {}
      },
      "source": [
        "plt.plot(data[:, 0], data[:, 1], '.') # cluster의 모든 행 중 첫 번째 열, cluster의 모든 행 중 두번째 열\n",
        "plt.plot(centroids[:, 0], centroids[:, 1], 'o') # 중심점을 표현\n",
        "plt.xlabel('X') # X축을 의미\n",
        "plt.ylabel('Y') # Y축을 의미"
      ],
      "execution_count": null,
      "outputs": []
    },
    {
      "cell_type": "code",
      "metadata": {
        "id": "MR-FGcln7Ohe",
        "colab_type": "code",
        "colab": {}
      },
      "source": [
        "wcss = []\n",
        "for i in range(1, 6): # cluster의 갯수가 1부터 5까지 넣어 반복했을 때 나오는 결과\n",
        "    kmeans = KMeans(n_clusters=i, init='k-means++', max_iter=300, n_init=10, random_state=0)\n",
        "    kmeans.fit(data)\n",
        "    wcss.append(kmeans.inertia_)\n",
        "plt.plot(range(1, 6), wcss)\n",
        "plt.title('Elbow Method')\n",
        "plt.xlabel('Number of clusters') # X축을 의미\n",
        "plt.ylabel('WCSS') # Y축을 의미\n",
        "plt.show()"
      ],
      "execution_count": null,
      "outputs": []
    },
    {
      "cell_type": "code",
      "metadata": {
        "id": "A5fI49B7OPxm",
        "colab_type": "code",
        "colab": {}
      },
      "source": [
        "kmeans.inertia_ # centroids와 각각의 데이터간의 거리합을 의미"
      ],
      "execution_count": null,
      "outputs": []
    }
  ]
}