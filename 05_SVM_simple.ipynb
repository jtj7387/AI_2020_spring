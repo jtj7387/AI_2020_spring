{
  "nbformat": 4,
  "nbformat_minor": 0,
  "metadata": {
    "colab": {
      "name": "05_SVM_simple.ipynb",
      "provenance": [],
      "collapsed_sections": [],
      "authorship_tag": "ABX9TyNHLdtNSB+NwfkffqAoZIrm",
      "include_colab_link": true
    },
    "kernelspec": {
      "name": "python3",
      "display_name": "Python 3"
    }
  },
  "cells": [
    {
      "cell_type": "markdown",
      "metadata": {
        "id": "view-in-github",
        "colab_type": "text"
      },
      "source": [
        "<a href=\"https://colab.research.google.com/github/jtj7387/AI_2020_spring/blob/master/05_SVM_simple.ipynb\" target=\"_parent\"><img src=\"https://colab.research.google.com/assets/colab-badge.svg\" alt=\"Open In Colab\"/></a>"
      ]
    },
    {
      "cell_type": "code",
      "metadata": {
        "id": "k1Rgr_X-NCvo",
        "colab_type": "code",
        "colab": {}
      },
      "source": [
        "from sklearn.svm import SVC\n",
        "import matplotlib.pyplot as plt\n",
        "import numpy as np"
      ],
      "execution_count": 1,
      "outputs": []
    },
    {
      "cell_type": "code",
      "metadata": {
        "id": "_j-Qg0S6N_2E",
        "colab_type": "code",
        "colab": {}
      },
      "source": [
        "tpts = np.array([[1, 2], [1, 5], [2, 2],[7, 5], [9, 4], [8, 2]]) # 앞에 3개는  labels 1에 속하고 뒤에 3개는 0에 속한다.\n",
        "labels = [1, 1, 1, 1, 0, 0] # 각각의 쌍을 쉽게 두 가지 데이터로 표현\n"
      ],
      "execution_count": 2,
      "outputs": []
    },
    {
      "cell_type": "code",
      "metadata": {
        "id": "2i-LD8TwOwvW",
        "colab_type": "code",
        "colab": {
          "base_uri": "https://localhost:8080/",
          "height": 129
        },
        "outputId": "8e545276-a941-4738-a2c2-789b1451d8e5"
      },
      "source": [
        "tpts"
      ],
      "execution_count": 3,
      "outputs": [
        {
          "output_type": "execute_result",
          "data": {
            "text/plain": [
              "array([[1, 2],\n",
              "       [1, 5],\n",
              "       [2, 2],\n",
              "       [7, 5],\n",
              "       [9, 4],\n",
              "       [8, 2]])"
            ]
          },
          "metadata": {
            "tags": []
          },
          "execution_count": 3
        }
      ]
    },
    {
      "cell_type": "code",
      "metadata": {
        "id": "H8tYKVW_PC-3",
        "colab_type": "code",
        "colab": {
          "base_uri": "https://localhost:8080/",
          "height": 36
        },
        "outputId": "67458729-e909-4110-9e9c-3592cc65c09e"
      },
      "source": [
        "tpts.shape # 6개의 데이터와 2차원으로 되어있구나"
      ],
      "execution_count": 4,
      "outputs": [
        {
          "output_type": "execute_result",
          "data": {
            "text/plain": [
              "(6, 2)"
            ]
          },
          "metadata": {
            "tags": []
          },
          "execution_count": 4
        }
      ]
    },
    {
      "cell_type": "code",
      "metadata": {
        "id": "bcx2IzSZPLpN",
        "colab_type": "code",
        "colab": {
          "base_uri": "https://localhost:8080/",
          "height": 284
        },
        "outputId": "8dd18a55-bd1e-43d7-f11e-4219a3f18082"
      },
      "source": [
        "plt.scatter(tpts[:, 0], tpts[:, 1], c=labels )  \n"
      ],
      "execution_count": 5,
      "outputs": [
        {
          "output_type": "execute_result",
          "data": {
            "text/plain": [
              "<matplotlib.collections.PathCollection at 0x7f486c867588>"
            ]
          },
          "metadata": {
            "tags": []
          },
          "execution_count": 5
        },
        {
          "output_type": "display_data",
          "data": {
            "image/png": "[encoded data removed]",
            "text/plain": [
              "<Figure size 432x288 with 1 Axes>"
            ]
          },
          "metadata": {
            "tags": [],
            "needs_background": "light"
          }
        }
      ]
    },
    {
      "cell_type": "code",
      "metadata": {
        "id": "tNYFRzM-Rj7-",
        "colab_type": "code",
        "colab": {}
      },
      "source": [
        "clf = SVC(kernel='linear') # SVC에 사용되는 구분선을 선으로 표현? clf=classifier"
      ],
      "execution_count": 6,
      "outputs": []
    },
    {
      "cell_type": "code",
      "metadata": {
        "id": "NHNsZuAZSVLy",
        "colab_type": "code",
        "colab": {
          "base_uri": "https://localhost:8080/",
          "height": 92
        },
        "outputId": "38290445-8246-4c58-8fa1-437e9383c75a"
      },
      "source": [
        "#%%time\n",
        "clf.fit(tpts, labels)"
      ],
      "execution_count": 7,
      "outputs": [
        {
          "output_type": "execute_result",
          "data": {
            "text/plain": [
              "SVC(C=1.0, break_ties=False, cache_size=200, class_weight=None, coef0=0.0,\n",
              "    decision_function_shape='ovr', degree=3, gamma='scale', kernel='linear',\n",
              "    max_iter=-1, probability=False, random_state=None, shrinking=True,\n",
              "    tol=0.001, verbose=False)"
            ]
          },
          "metadata": {
            "tags": []
          },
          "execution_count": 7
        }
      ]
    },
    {
      "cell_type": "markdown",
      "metadata": {
        "id": "deKcneuqZHh8",
        "colab_type": "text"
      },
      "source": [
        "테스트 해보기"
      ]
    },
    {
      "cell_type": "code",
      "metadata": {
        "id": "y4iQOi0AUWEe",
        "colab_type": "code",
        "colab": {
          "base_uri": "https://localhost:8080/",
          "height": 36
        },
        "outputId": "c1888ef6-c6e6-4f38-eced-62095505e370"
      },
      "source": [
        "pred1 = clf.predict([[3, 3]]) # (3.3)이 어디에 어떤 영역에 해당되는지 아는 방법\n",
        "print(pred1[0])"
      ],
      "execution_count": 8,
      "outputs": [
        {
          "output_type": "stream",
          "text": [
            "1\n"
          ],
          "name": "stdout"
        }
      ]
    },
    {
      "cell_type": "code",
      "metadata": {
        "id": "DJUIQFkiVXJy",
        "colab_type": "code",
        "colab": {
          "base_uri": "https://localhost:8080/",
          "height": 36
        },
        "outputId": "07315a0f-91e6-4dfc-b29b-85662f153995"
      },
      "source": [
        "pred1 = clf.predict([[7, 4]]) # (7,4)가 어디에 어떤 영역에 해당되는지 아는 방법\n",
        "print(pred1[0])"
      ],
      "execution_count": 9,
      "outputs": [
        {
          "output_type": "stream",
          "text": [
            "1\n"
          ],
          "name": "stdout"
        }
      ]
    },
    {
      "cell_type": "code",
      "metadata": {
        "id": "A2nO-qDxVXWk",
        "colab_type": "code",
        "colab": {
          "base_uri": "https://localhost:8080/",
          "height": 36
        },
        "outputId": "781f1c5b-faee-40e6-8549-35aa88631aba"
      },
      "source": [
        "pred1 = clf.predict([[7, 4.1]]) #(4, 4.1)이 어디에 어떤 영역에 해당되는지 아는 방법\n",
        "print(pred1[0])"
      ],
      "execution_count": 10,
      "outputs": [
        {
          "output_type": "stream",
          "text": [
            "1\n"
          ],
          "name": "stdout"
        }
      ]
    },
    {
      "cell_type": "markdown",
      "metadata": {
        "id": "V7E9D0QZZFm_",
        "colab_type": "text"
      },
      "source": [
        "그래프 그리기"
      ]
    },
    {
      "cell_type": "code",
      "metadata": {
        "id": "b2ddlRVpVdfi",
        "colab_type": "code",
        "colab": {
          "base_uri": "https://localhost:8080/",
          "height": 36
        },
        "outputId": "1faf2788-a675-4650-8c74-75f5f3a5af6c"
      },
      "source": [
        "clf.coef_ # clf안에는 coef기울기와 관련된 숫자"
      ],
      "execution_count": 11,
      "outputs": [
        {
          "output_type": "execute_result",
          "data": {
            "text/plain": [
              "array([[-0.8,  0.4]])"
            ]
          },
          "metadata": {
            "tags": []
          },
          "execution_count": 11
        }
      ]
    },
    {
      "cell_type": "code",
      "metadata": {
        "id": "VWbih5AZVdkm",
        "colab_type": "code",
        "colab": {
          "base_uri": "https://localhost:8080/",
          "height": 36
        },
        "outputId": "bcac82e2-434f-4417-cebb-2d134f9dcb49"
      },
      "source": [
        "clf.intercept_ # 직선이 y축을 지나는 점을 표현"
      ],
      "execution_count": 12,
      "outputs": [
        {
          "output_type": "execute_result",
          "data": {
            "text/plain": [
              "array([4.6])"
            ]
          },
          "metadata": {
            "tags": []
          },
          "execution_count": 12
        }
      ]
    },
    {
      "cell_type": "code",
      "metadata": {
        "id": "YVwuZ-K_Vdps",
        "colab_type": "code",
        "colab": {}
      },
      "source": [
        "def getXY(clf): # 그림에 필요한 x,y값을 찾아주는 함수생성 clf안에 있는 정보를 활용\n",
        "  w = clf.coef_[0] # w는 clf안에 기울기를 의미\n",
        "  i = clf.intercept_[0] # i는 clf안에 intercept를 의미\n",
        "  print('weights = ', w)\n",
        "  print('intercept_ = ', i)\n",
        "\n",
        "  a = -w[0] / w[1] # 기울기를 의미\n",
        "  b = -i / w[1] # y절편을 의미\n",
        "  x = np.linspace(1, 9) # 1~9까지 값을 가짐\n",
        "\n",
        "  y = a * x + b # 기울기 식, 일차방정식\n",
        "\n",
        "  return x, y # x와 y를 출력해주는 함수\n"
      ],
      "execution_count": 13,
      "outputs": []
    },
    {
      "cell_type": "code",
      "metadata": {
        "id": "C-mi2n6EVdng",
        "colab_type": "code",
        "colab": {
          "base_uri": "https://localhost:8080/",
          "height": 55
        },
        "outputId": "24ac0ae5-a204-4d38-f900-cb000724c7ef"
      },
      "source": [
        "x, y = getXY(clf)"
      ],
      "execution_count": 14,
      "outputs": [
        {
          "output_type": "stream",
          "text": [
            "weights =  [-0.8  0.4]\n",
            "intercept_ =  4.600000000000005\n"
          ],
          "name": "stdout"
        }
      ]
    },
    {
      "cell_type": "code",
      "metadata": {
        "id": "2vQzlp1bVdiV",
        "colab_type": "code",
        "colab": {}
      },
      "source": [
        "#y"
      ],
      "execution_count": 15,
      "outputs": []
    },
    {
      "cell_type": "code",
      "metadata": {
        "id": "z0oJli2jVloK",
        "colab_type": "code",
        "colab": {
          "base_uri": "https://localhost:8080/",
          "height": 284
        },
        "outputId": "e5fe367b-b86c-4ecb-847f-facf76fba67a"
      },
      "source": [
        "plt.scatter(tpts[:, 0], tpts[:, 1], c=labels)\n",
        "plt.plot(x, y, '-')"
      ],
      "execution_count": 16,
      "outputs": [
        {
          "output_type": "execute_result",
          "data": {
            "text/plain": [
              "[<matplotlib.lines.Line2D at 0x7f486c867c18>]"
            ]
          },
          "metadata": {
            "tags": []
          },
          "execution_count": 16
        },
        {
          "output_type": "display_data",
          "data": {
            "image/png": "[encoded data removed]",
            "text/plain": [
              "<Figure size 432x288 with 1 Axes>"
            ]
          },
          "metadata": {
            "tags": [],
            "needs_background": "light"
          }
        }
      ]
    }
  ]
}