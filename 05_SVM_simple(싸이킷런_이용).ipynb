{
  "nbformat": 4,
  "nbformat_minor": 0,
  "metadata": {
    "colab": {
      "name": "05_SVM_simple(싸이킷런 이용).ipynb",
      "provenance": [],
      "collapsed_sections": [],
      "authorship_tag": "ABX9TyPxrKKL0howaqMA+UV2JfO3",
      "include_colab_link": true
    },
    "kernelspec": {
      "name": "python3",
      "display_name": "Python 3"
    }
  },
  "cells": [
    {
      "cell_type": "markdown",
      "metadata": {
        "id": "view-in-github",
        "colab_type": "text"
      },
      "source": [
        "<a href=\"https://colab.research.google.com/github/jtj7387/AI_2020_spring/blob/master/05_SVM_simple(%EC%8B%B8%EC%9D%B4%ED%82%B7%EB%9F%B0_%EC%9D%B4%EC%9A%A9).ipynb\" target=\"_parent\"><img src=\"https://colab.research.google.com/assets/colab-badge.svg\" alt=\"Open In Colab\"/></a>"
      ]
    },
    {
      "cell_type": "code",
      "metadata": {
        "id": "UL_34WefflHS",
        "colab_type": "code",
        "colab": {}
      },
      "source": [
        "from sklearn.svm import SVC\n",
        "import matplotlib.pyplot as plt\n",
        "import numpy as np"
      ],
      "execution_count": 1,
      "outputs": []
    },
    {
      "cell_type": "code",
      "metadata": {
        "id": "MNHocJRvfxty",
        "colab_type": "code",
        "colab": {}
      },
      "source": [
        "tpts = np.array([[1, 2], [1, 5], [2, 2], [3, 3.5], [7, 5], [9, 4], [8, 2],[4,8]])  # 데이터 갯수와 labels의 갯수는 같아야 한다. 그래야 그림으로 표현할수 있으니\n",
        "labels = [1, 1, 1, 1, 0, 0, 0,1]"
      ],
      "execution_count": 2,
      "outputs": []
    },
    {
      "cell_type": "code",
      "metadata": {
        "id": "nFgSgAi1f0gO",
        "colab_type": "code",
        "colab": {
          "base_uri": "https://localhost:8080/",
          "height": 167
        },
        "outputId": "6ca3e625-c704-4e2e-8414-3956c05000ea"
      },
      "source": [
        "tpts"
      ],
      "execution_count": 3,
      "outputs": [
        {
          "output_type": "execute_result",
          "data": {
            "text/plain": [
              "array([[1. , 2. ],\n",
              "       [1. , 5. ],\n",
              "       [2. , 2. ],\n",
              "       [3. , 3.5],\n",
              "       [7. , 5. ],\n",
              "       [9. , 4. ],\n",
              "       [8. , 2. ],\n",
              "       [4. , 8. ]])"
            ]
          },
          "metadata": {
            "tags": []
          },
          "execution_count": 3
        }
      ]
    },
    {
      "cell_type": "code",
      "metadata": {
        "id": "mOuZ_N4Qf7v2",
        "colab_type": "code",
        "colab": {
          "base_uri": "https://localhost:8080/",
          "height": 36
        },
        "outputId": "48585114-e7ea-478e-fc04-7c4df8343702"
      },
      "source": [
        "tpts.shape\n"
      ],
      "execution_count": 4,
      "outputs": [
        {
          "output_type": "execute_result",
          "data": {
            "text/plain": [
              "(8, 2)"
            ]
          },
          "metadata": {
            "tags": []
          },
          "execution_count": 4
        }
      ]
    },
    {
      "cell_type": "code",
      "metadata": {
        "id": "0dhBzkF1gKBe",
        "colab_type": "code",
        "colab": {
          "base_uri": "https://localhost:8080/",
          "height": 284
        },
        "outputId": "280b3f6b-f6b6-43e6-f67d-7a6d33af5fa9"
      },
      "source": [
        "plt.scatter(tpts[:, 0], tpts[:, 1], c=labels)  # x차원, y차원을 표현 // labels은 위에서 알 수있듯이 1과0으로 되어있다. 그래서 두 가지 색으로 표현가능"
      ],
      "execution_count": 5,
      "outputs": [
        {
          "output_type": "execute_result",
          "data": {
            "text/plain": [
              "<matplotlib.collections.PathCollection at 0x7fd88842a550>"
            ]
          },
          "metadata": {
            "tags": []
          },
          "execution_count": 5
        },
        {
          "output_type": "display_data",
          "data": {
            "image/png": "[encoded data removed]",
            "text/plain": [
              "<Figure size 432x288 with 1 Axes>"
            ]
          },
          "metadata": {
            "tags": [],
            "needs_background": "light"
          }
        }
      ]
    },
    {
      "cell_type": "code",
      "metadata": {
        "id": "KRcUuLEEgO-v",
        "colab_type": "code",
        "colab": {}
      },
      "source": [
        "clf = SVC(kernel='linear') # 벡터 공간으로 맵핑하는 함수를 커널(kernel)이라 한다. 즉 이 맵핑 함수를 선으로 표현한다는 의미/ clf=classifier(영역구분자)"
      ],
      "execution_count": 6,
      "outputs": []
    },
    {
      "cell_type": "code",
      "metadata": {
        "id": "9cwZDEq4gZiL",
        "colab_type": "code",
        "colab": {
          "base_uri": "https://localhost:8080/",
          "height": 55
        },
        "outputId": "d04371bd-fef6-4abb-8122-64fa4586bf0a"
      },
      "source": [
        "%%time\n",
        "labels=[1,1,1,1,0,0,0,1]\n",
        "clf.fit(tpts, labels) # fit이란 훈련데이터에서 모델 파라미터를 학습하는 함수, kmeans에는 labels이 없어서 fit만함 그러나 이건 supervised learning 이기 \n",
        "# 때문에 labels이 있다."
      ],
      "execution_count": 7,
      "outputs": [
        {
          "output_type": "stream",
          "text": [
            "CPU times: user 1.27 ms, sys: 55 µs, total: 1.32 ms\n",
            "Wall time: 1.12 ms\n"
          ],
          "name": "stdout"
        }
      ]
    },
    {
      "cell_type": "markdown",
      "metadata": {
        "id": "eW_-1obOT5z9",
        "colab_type": "text"
      },
      "source": [
        "테스트해보기\n"
      ]
    },
    {
      "cell_type": "code",
      "metadata": {
        "id": "eJdSc4NihhDG",
        "colab_type": "code",
        "colab": {
          "base_uri": "https://localhost:8080/",
          "height": 36
        },
        "outputId": "d619e32b-dfd8-4a44-96b2-8f357092ece2"
      },
      "source": [
        "pred1 = clf.predict([[3, 3]]) # 3,3이 어디에 어떤 영역인지 보여준다.\n",
        "print(pred1[0]) # 노란색점은 1 보라색점은 0"
      ],
      "execution_count": 8,
      "outputs": [
        {
          "output_type": "stream",
          "text": [
            "1\n"
          ],
          "name": "stdout"
        }
      ]
    },
    {
      "cell_type": "code",
      "metadata": {
        "id": "U1XhLxXUT-O4",
        "colab_type": "code",
        "colab": {
          "base_uri": "https://localhost:8080/",
          "height": 36
        },
        "outputId": "8572025b-051d-4c59-f37f-993ffbf507e2"
      },
      "source": [
        "pred1 = clf.predict([[4, 4]])\n",
        "print(pred1[0]) # pred1 배열의 첫번째 요소만 끄내보기"
      ],
      "execution_count": 9,
      "outputs": [
        {
          "output_type": "stream",
          "text": [
            "1\n"
          ],
          "name": "stdout"
        }
      ]
    },
    {
      "cell_type": "code",
      "metadata": {
        "id": "T1NwoGT1UXEm",
        "colab_type": "code",
        "colab": {
          "base_uri": "https://localhost:8080/",
          "height": 36
        },
        "outputId": "7b1132c9-b05e-42f2-f2d3-5b0896548e07"
      },
      "source": [
        "pred1 = clf.predict([[6,6]])\n",
        "print(pred1[0])"
      ],
      "execution_count": 10,
      "outputs": [
        {
          "output_type": "stream",
          "text": [
            "0\n"
          ],
          "name": "stdout"
        }
      ]
    },
    {
      "cell_type": "markdown",
      "metadata": {
        "id": "JQ3iAH5qUvST",
        "colab_type": "text"
      },
      "source": [
        "구분선과 같이 그림 그려보기"
      ]
    },
    {
      "cell_type": "code",
      "metadata": {
        "id": "VcqDG1-3U7FD",
        "colab_type": "code",
        "colab": {
          "base_uri": "https://localhost:8080/",
          "height": 284
        },
        "outputId": "7df69db7-bc98-4f44-f5fc-90d9f9de7f6f"
      },
      "source": [
        "plt.scatter(tpts[:, 0], tpts[:, 1], c=labels)"
      ],
      "execution_count": 11,
      "outputs": [
        {
          "output_type": "execute_result",
          "data": {
            "text/plain": [
              "<matplotlib.collections.PathCollection at 0x7fd887f1d630>"
            ]
          },
          "metadata": {
            "tags": []
          },
          "execution_count": 11
        },
        {
          "output_type": "display_data",
          "data": {
            "image/png": "[encoded data removed]",
            "text/plain": [
              "<Figure size 432x288 with 1 Axes>"
            ]
          },
          "metadata": {
            "tags": [],
            "needs_background": "light"
          }
        }
      ]
    },
    {
      "cell_type": "code",
      "metadata": {
        "id": "IYA7qckGiUQb",
        "colab_type": "code",
        "colab": {
          "base_uri": "https://localhost:8080/",
          "height": 36
        },
        "outputId": "8dac9fe2-f113-4f78-fdbd-84e12c2ae64d"
      },
      "source": [
        "clf.coef_ # 추정된 모수 확인(상수항 제외). 모수란 조사의 대상이 되는 집단 단체 -> 모집단 // 이 모집단의 특성을 나타내는 수치를 모수라 한다. 여기서는 기울기\n",
        "          "
      ],
      "execution_count": 12,
      "outputs": [
        {
          "output_type": "execute_result",
          "data": {
            "text/plain": [
              "array([[-0.54527198,  0.12117155]])"
            ]
          },
          "metadata": {
            "tags": []
          },
          "execution_count": 12
        }
      ]
    },
    {
      "cell_type": "code",
      "metadata": {
        "id": "4V937d9xiX1p",
        "colab_type": "code",
        "colab": {
          "base_uri": "https://localhost:8080/",
          "height": 36
        },
        "outputId": "3a605bf9-a430-472a-ce88-402d1d9df453"
      },
      "source": [
        "clf.intercept_ # 추정된 모수 확인(상수항 포함) // y=ax+b에서 b에 해당되는 부분을 보여주는 코드"
      ],
      "execution_count": 13,
      "outputs": [
        {
          "output_type": "execute_result",
          "data": {
            "text/plain": [
              "array([2.21149237])"
            ]
          },
          "metadata": {
            "tags": []
          },
          "execution_count": 13
        }
      ]
    },
    {
      "cell_type": "code",
      "metadata": {
        "id": "z020ShdniZW-",
        "colab_type": "code",
        "colab": {}
      },
      "source": [
        "def getXY(clf):\n",
        "  w = clf.coef_[0] # 기울기에 해당\n",
        "  i = clf.intercept_[0] # y절편에 해당\n",
        "  print('weights = ', w)\n",
        "  print('intercept_ = ', i)\n",
        "\n",
        "  a= -w[0]/w[1] #정확히 왜 이렇게 표현하는지 모름\n",
        "  b= -i/w[1] #정확히 왜 이렇게 표현하는지 모름\n",
        "  x=np.linspace(1,9) # x축을 1부터 9까지 촘촘히 정의\n",
        "\n",
        "\n",
        "  y=a*x+b\n",
        "\n",
        "  return x,y"
      ],
      "execution_count": 14,
      "outputs": []
    },
    {
      "cell_type": "code",
      "metadata": {
        "id": "VW4byHerYdR2",
        "colab_type": "code",
        "colab": {
          "base_uri": "https://localhost:8080/",
          "height": 55
        },
        "outputId": "8bc44cc8-515d-4a93-89de-df7f28d0de9d"
      },
      "source": [
        "x,y= getXY(clf)"
      ],
      "execution_count": 15,
      "outputs": [
        {
          "output_type": "stream",
          "text": [
            "weights =  [-0.54527198  0.12117155]\n",
            "intercept_ =  2.211492367181768\n"
          ],
          "name": "stdout"
        }
      ]
    },
    {
      "cell_type": "code",
      "metadata": {
        "id": "WkAGkuGuaJ5k",
        "colab_type": "code",
        "colab": {
          "base_uri": "https://localhost:8080/",
          "height": 204
        },
        "outputId": "ac6f46e0-99b2-4979-c371-f0602352bddf"
      },
      "source": [
        "x # x출력 시 1~9까지 매우 촘촘한 간격을 가지고 나타난다."
      ],
      "execution_count": 16,
      "outputs": [
        {
          "output_type": "execute_result",
          "data": {
            "text/plain": [
              "array([1.        , 1.16326531, 1.32653061, 1.48979592, 1.65306122,\n",
              "       1.81632653, 1.97959184, 2.14285714, 2.30612245, 2.46938776,\n",
              "       2.63265306, 2.79591837, 2.95918367, 3.12244898, 3.28571429,\n",
              "       3.44897959, 3.6122449 , 3.7755102 , 3.93877551, 4.10204082,\n",
              "       4.26530612, 4.42857143, 4.59183673, 4.75510204, 4.91836735,\n",
              "       5.08163265, 5.24489796, 5.40816327, 5.57142857, 5.73469388,\n",
              "       5.89795918, 6.06122449, 6.2244898 , 6.3877551 , 6.55102041,\n",
              "       6.71428571, 6.87755102, 7.04081633, 7.20408163, 7.36734694,\n",
              "       7.53061224, 7.69387755, 7.85714286, 8.02040816, 8.18367347,\n",
              "       8.34693878, 8.51020408, 8.67346939, 8.83673469, 9.        ])"
            ]
          },
          "metadata": {
            "tags": []
          },
          "execution_count": 16
        }
      ]
    },
    {
      "cell_type": "code",
      "metadata": {
        "id": "bnppvzgKaT2S",
        "colab_type": "code",
        "colab": {
          "base_uri": "https://localhost:8080/",
          "height": 260
        },
        "outputId": "414c26c9-07e3-475d-9b8b-fad4573606b2"
      },
      "source": [
        "y # x값에 따른 y값"
      ],
      "execution_count": 17,
      "outputs": [
        {
          "output_type": "execute_result",
          "data": {
            "text/plain": [
              "array([-13.75092075, -13.01622688, -12.281533  , -11.54683912,\n",
              "       -10.81214524, -10.07745137,  -9.34275749,  -8.60806361,\n",
              "        -7.87336973,  -7.13867586,  -6.40398198,  -5.6692881 ,\n",
              "        -4.93459422,  -4.19990035,  -3.46520647,  -2.73051259,\n",
              "        -1.99581871,  -1.26112484,  -0.52643096,   0.20826292,\n",
              "         0.9429568 ,   1.67765067,   2.41234455,   3.14703843,\n",
              "         3.88173231,   4.61642618,   5.35112006,   6.08581394,\n",
              "         6.82050782,   7.55520169,   8.28989557,   9.02458945,\n",
              "         9.75928333,  10.4939772 ,  11.22867108,  11.96336496,\n",
              "        12.69805884,  13.43275271,  14.16744659,  14.90214047,\n",
              "        15.63683435,  16.37152822,  17.1062221 ,  17.84091598,\n",
              "        18.57560986,  19.31030374,  20.04499761,  20.77969149,\n",
              "        21.51438537,  22.24907925])"
            ]
          },
          "metadata": {
            "tags": []
          },
          "execution_count": 17
        }
      ]
    },
    {
      "cell_type": "code",
      "metadata": {
        "id": "0Anxz1imafRr",
        "colab_type": "code",
        "colab": {
          "base_uri": "https://localhost:8080/",
          "height": 284
        },
        "outputId": "fccaa1a2-09ff-4d86-bc83-cc95b9e3b2fb"
      },
      "source": [
        "plt.scatter(tpts[:, 0], tpts[:, 1], c=labels) #임의로 데이터를 추가하게 되면 decision boundary가 반복학습을 통해 바뀌게 된다.\n",
        "plt.plot(x,y,'-')"
      ],
      "execution_count": 18,
      "outputs": [
        {
          "output_type": "execute_result",
          "data": {
            "text/plain": [
              "[<matplotlib.lines.Line2D at 0x7fd887ee5630>]"
            ]
          },
          "metadata": {
            "tags": []
          },
          "execution_count": 18
        },
        {
          "output_type": "display_data",
          "data": {
            "image/png": "[encoded data removed]",
            "text/plain": [
              "<Figure size 432x288 with 1 Axes>"
            ]
          },
          "metadata": {
            "tags": [],
            "needs_background": "light"
          }
        }
      ]
    }
  ]
}