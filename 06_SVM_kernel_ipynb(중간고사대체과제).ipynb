{
  "nbformat": 4,
  "nbformat_minor": 0,
  "metadata": {
    "colab": {
      "name": "06_SVM_kernel.ipynb(중간고사대체과제)",
      "provenance": [],
      "collapsed_sections": [],
      "authorship_tag": "ABX9TyOAxHY8I0Kfi+je3+b3BTZz",
      "include_colab_link": true
    },
    "kernelspec": {
      "name": "python3",
      "display_name": "Python 3"
    }
  },
  "cells": [
    {
      "cell_type": "markdown",
      "metadata": {
        "id": "view-in-github",
        "colab_type": "text"
      },
      "source": [
        "<a href=\"https://colab.research.google.com/github/jtj7387/AI_2020_spring/blob/master/06_SVM_kernel_ipynb(%EC%A4%91%EA%B0%84%EA%B3%A0%EC%82%AC%EB%8C%80%EC%B2%B4%EA%B3%BC%EC%A0%9C).ipynb\" target=\"_parent\"><img src=\"https://colab.research.google.com/assets/colab-badge.svg\" alt=\"Open In Colab\"/></a>"
      ]
    },
    {
      "cell_type": "markdown",
      "metadata": {
        "id": "_ELAJCJ9avGq",
        "colab_type": "text"
      },
      "source": [
        "# SVM 세팅"
      ]
    },
    {
      "cell_type": "code",
      "metadata": {
        "id": "G8KGS8I0nYEW",
        "colab_type": "code",
        "colab": {}
      },
      "source": [
        "import numpy as np\n",
        "import matplotlib.pyplot as plt"
      ],
      "execution_count": 155,
      "outputs": []
    },
    {
      "cell_type": "code",
      "metadata": {
        "id": "JP1ThO6poJDB",
        "colab_type": "code",
        "colab": {}
      },
      "source": [
        "from sklearn.datasets import make_circles #  지금부터 이 기능을 사용가능하다"
      ],
      "execution_count": 156,
      "outputs": []
    },
    {
      "cell_type": "code",
      "metadata": {
        "id": "JTF2EfeaoTjL",
        "colab_type": "code",
        "colab": {}
      },
      "source": [
        "X, Y = make_circles(n_samples=1000, noise=0.02) # sample의 갯수를 임의로 1000라 설정, noise는 데이터가 얼마나 떨어져있는지 알려주는 지표"
      ],
      "execution_count": 157,
      "outputs": []
    },
    {
      "cell_type": "code",
      "metadata": {
        "id": "ewojZQtYoey4",
        "colab_type": "code",
        "colab": {
          "base_uri": "https://localhost:8080/",
          "height": 36
        },
        "outputId": "5ec7e61b-1511-46cf-d4d0-1a4c9e544633"
      },
      "source": [
        "X.shape # 1000개가 있고 두 줄짜리로 구성"
      ],
      "execution_count": 158,
      "outputs": [
        {
          "output_type": "execute_result",
          "data": {
            "text/plain": [
              "(1000, 2)"
            ]
          },
          "metadata": {
            "tags": []
          },
          "execution_count": 158
        }
      ]
    },
    {
      "cell_type": "code",
      "metadata": {
        "id": "EJd_rq4m3w1P",
        "colab_type": "code",
        "colab": {
          "base_uri": "https://localhost:8080/",
          "height": 36
        },
        "outputId": "7985af99-4980-4020-8086-a3e626678659"
      },
      "source": [
        "Y.shape"
      ],
      "execution_count": 159,
      "outputs": [
        {
          "output_type": "execute_result",
          "data": {
            "text/plain": [
              "(1000,)"
            ]
          },
          "metadata": {
            "tags": []
          },
          "execution_count": 159
        }
      ]
    },
    {
      "cell_type": "code",
      "metadata": {
        "id": "N5B8sjoA5zEF",
        "colab_type": "code",
        "colab": {
          "base_uri": "https://localhost:8080/",
          "height": 36
        },
        "outputId": "5a3acb81-8a99-4151-bcc8-9ed9af2f85b2"
      },
      "source": [
        "Y[:10]"
      ],
      "execution_count": 160,
      "outputs": [
        {
          "output_type": "execute_result",
          "data": {
            "text/plain": [
              "array([0, 0, 0, 1, 1, 0, 1, 0, 1, 0])"
            ]
          },
          "metadata": {
            "tags": []
          },
          "execution_count": 160
        }
      ]
    },
    {
      "cell_type": "code",
      "metadata": {
        "id": "KrNLLylz35jj",
        "colab_type": "code",
        "colab": {}
      },
      "source": [
        "x1=X[:,0]\n",
        "x2=X[:,1]"
      ],
      "execution_count": 161,
      "outputs": []
    },
    {
      "cell_type": "code",
      "metadata": {
        "id": "c4aRM88K4u2C",
        "colab_type": "code",
        "colab": {}
      },
      "source": [
        "plt.scatter(x1, x2, c=Y)\n",
        "plt.grid('on')\n",
        "plt.axis('equal')"
      ],
      "execution_count": null,
      "outputs": []
    },
    {
      "cell_type": "code",
      "metadata": {
        "id": "32h1naYe6RXV",
        "colab_type": "code",
        "colab": {}
      },
      "source": [
        "x3= x1**2+ x2**2"
      ],
      "execution_count": null,
      "outputs": []
    },
    {
      "cell_type": "code",
      "metadata": {
        "id": "OEzSUdcY6jai",
        "colab_type": "code",
        "colab": {}
      },
      "source": [
        "fig = plt.figure()\n",
        "ax= fig.add_subplot(111, projection='3d')\n",
        "ax.scatter(x1, x2, x3, c=Y)"
      ],
      "execution_count": null,
      "outputs": []
    },
    {
      "cell_type": "code",
      "metadata": {
        "id": "x6zIf5f5iJ_l",
        "colab_type": "code",
        "colab": {}
      },
      "source": [
        "from sklearn.model_selection import train_test_split # sklearn안에 있는 model_seletion"
      ],
      "execution_count": null,
      "outputs": []
    },
    {
      "cell_type": "code",
      "metadata": {
        "id": "xFNR9GE7ii8w",
        "colab_type": "code",
        "colab": {}
      },
      "source": [
        "X_train, X_test, y_train, y_test = train_test_split(X, Y, test_size=0.2)"
      ],
      "execution_count": null,
      "outputs": []
    },
    {
      "cell_type": "code",
      "metadata": {
        "id": "0qTZOF6YjEHu",
        "colab_type": "code",
        "colab": {}
      },
      "source": [
        "X_train.shape # 80%만 자름"
      ],
      "execution_count": null,
      "outputs": []
    },
    {
      "cell_type": "code",
      "metadata": {
        "id": "vz7xJgbkjIM_",
        "colab_type": "code",
        "colab": {}
      },
      "source": [
        "X_test.shape"
      ],
      "execution_count": null,
      "outputs": []
    },
    {
      "cell_type": "code",
      "metadata": {
        "id": "_9H3f_l_jVdc",
        "colab_type": "code",
        "colab": {}
      },
      "source": [
        "Y.shape"
      ],
      "execution_count": null,
      "outputs": []
    },
    {
      "cell_type": "code",
      "metadata": {
        "id": "vzJJlUqfjYKv",
        "colab_type": "code",
        "colab": {}
      },
      "source": [
        "y_test.shape"
      ],
      "execution_count": null,
      "outputs": []
    },
    {
      "cell_type": "code",
      "metadata": {
        "id": "c_mKol_eji75",
        "colab_type": "code",
        "colab": {}
      },
      "source": [
        "# model1= svc(kernel ='rbf')"
      ],
      "execution_count": null,
      "outputs": []
    },
    {
      "cell_type": "markdown",
      "metadata": {
        "id": "nHE_cGkDvIP6",
        "colab_type": "text"
      },
      "source": [
        "# SVM 테스트 #1"
      ]
    },
    {
      "cell_type": "code",
      "metadata": {
        "id": "VW7iEPefvFNc",
        "colab_type": "code",
        "colab": {}
      },
      "source": [
        "# 데이터를 선형으로 자를수 있나? \n",
        "from sklearn.svm import SVC\n",
        "model1=SVC(kernel = 'linear') # model 1에서 linear라는 kernel을 사용"
      ],
      "execution_count": null,
      "outputs": []
    },
    {
      "cell_type": "code",
      "metadata": {
        "id": "7bz7G2RyvjYW",
        "colab_type": "code",
        "colab": {}
      },
      "source": [
        "model1.fit(X,Y) # model 1 학습 및 요소확인"
      ],
      "execution_count": null,
      "outputs": []
    },
    {
      "cell_type": "code",
      "metadata": {
        "id": "Vf0sBOQ3v0AM",
        "colab_type": "code",
        "colab": {}
      },
      "source": [
        "def PlotSVM2D(X, y, model, title=\"SVM\", xmin=-2, xmax=2, ymin=-2, ymax=2):\n",
        "    import matplotlib as mpl\n",
        "    XX, YY = np.meshgrid(np.arange(xmin, xmax, (xmax-xmin)/1000),\n",
        "                         np.arange(ymin, ymax, (ymax-ymin)/1000))\n",
        "    ZZ = np.reshape(model.predict(\n",
        "        np.array([XX.ravel(), YY.ravel()]).T), XX.shape)\n",
        "    fig = plt.figure(figsize=(5,5))\n",
        "    plt.contourf(XX, YY, ZZ, cmap=mpl.cm.Paired_r, alpha=0.5)\n",
        "    plt.scatter(X[:, 0], X[:, 1], c=y)\n",
        "    plt.xlim(xmin, xmax)\n",
        "    plt.ylim(ymin, ymax)\n",
        "    plt.title(title)\n",
        "    plt.xlabel(\"x1\")\n",
        "    plt.ylabel(\"x2\")"
      ],
      "execution_count": null,
      "outputs": []
    },
    {
      "cell_type": "code",
      "metadata": {
        "id": "Ub9umT3pwEGZ",
        "colab_type": "code",
        "colab": {}
      },
      "source": [
        "PlotSVM2D(X,Y, model=model1, title='Linear SVM') # 데이터들을 선형으로 자르는 SVM을 찾고 경계선을 찾는다.\n",
        "                                                 # 하지만 선형이지 않은 데이터를 선형적으로 자르려고 하면 힘들다.\n",
        "                                                 # model 1을 출력"
      ],
      "execution_count": null,
      "outputs": []
    },
    {
      "cell_type": "markdown",
      "metadata": {
        "id": "yni9U9sIUxyc",
        "colab_type": "text"
      },
      "source": [
        "# SVM 테스트 #2\n"
      ]
    },
    {
      "cell_type": "code",
      "metadata": {
        "id": "ucnbYCH_U4sm",
        "colab_type": "code",
        "colab": {}
      },
      "source": [
        "X.shape # X의 형태출력"
      ],
      "execution_count": null,
      "outputs": []
    },
    {
      "cell_type": "code",
      "metadata": {
        "id": "pyPbJBTeU8FQ",
        "colab_type": "code",
        "colab": {}
      },
      "source": [
        "X2=np.vstack((x1, x2, x3)).T # Transpose. 데이터의 가로와 세로가 바뀜"
      ],
      "execution_count": null,
      "outputs": []
    },
    {
      "cell_type": "code",
      "metadata": {
        "id": "BRz8us_2VLsr",
        "colab_type": "code",
        "colab": {}
      },
      "source": [
        "X2.shape"
      ],
      "execution_count": null,
      "outputs": []
    },
    {
      "cell_type": "code",
      "metadata": {
        "id": "E9GgNtSnVYFu",
        "colab_type": "code",
        "colab": {}
      },
      "source": [
        "model2=SVC(kernel='linear') # 임의의 model2를 linear 형태인 kernel로 구분한다."
      ],
      "execution_count": null,
      "outputs": []
    },
    {
      "cell_type": "code",
      "metadata": {
        "id": "kJM9em4WVeWb",
        "colab_type": "code",
        "colab": {}
      },
      "source": [
        "model2.fit(X2,Y) # model2 학습 및 요소확인"
      ],
      "execution_count": null,
      "outputs": []
    },
    {
      "cell_type": "code",
      "metadata": {
        "id": "EuJgB2FwVrg_",
        "colab_type": "code",
        "colab": {}
      },
      "source": [
        "def PlotSVM3D(X, Y, model):\n",
        "  import numpy as np\n",
        "  X1 = X[:, 0]\n",
        "  X2 = X[:, 1]\n",
        "  X3 = X[:, 2]\n",
        "  w = model.coef_ \n",
        "  b = model.intercept_ \n",
        "\n",
        "  x1, x2 = np.meshgrid(X1, X2) \n",
        "  x3 = -(w[0][0]*x1 + w[0][1]*x2 + b) / w[0][2] \n",
        "\n",
        "  fig = plt.figure() \n",
        "  axes2 = fig.add_subplot(111, projection = '3d') \n",
        "  axes2.scatter(X1, X2, X3, c = Y) \n",
        "  axes1 = fig.gca(projection = '3d') \n",
        "  axes1.plot_surface(x1, x2, x3, alpha = 0.01) \n",
        "  #plt.show()"
      ],
      "execution_count": null,
      "outputs": []
    },
    {
      "cell_type": "code",
      "metadata": {
        "id": "06HOaZz8V4ik",
        "colab_type": "code",
        "colab": {}
      },
      "source": [
        "PlotSVM3D(X2, Y, model=model2) # model 2 출력"
      ],
      "execution_count": null,
      "outputs": []
    },
    {
      "cell_type": "markdown",
      "metadata": {
        "id": "bdAM7MBXWoUh",
        "colab_type": "text"
      },
      "source": [
        "# SVM 테스트 #3"
      ]
    },
    {
      "cell_type": "code",
      "metadata": {
        "id": "z34tWTG1Wq0K",
        "colab_type": "code",
        "colab": {}
      },
      "source": [
        "model3=SVC(kernel = 'rbf')# 모델 3는 rbf라는 kernel을 사용. RBF라는 원형의 칼로 경계선 구분\n",
        "                          # RBF= Radial Basis Function\n",
        "                          # 주어진 데이터를 고차원 특정 공간으로 사상해주는 것\n",
        "                          # 선형적으로 분류할 수 있는 결정 경계를 찾을 수 있게 된다."
      ],
      "execution_count": null,
      "outputs": []
    },
    {
      "cell_type": "code",
      "metadata": {
        "id": "zKLIbCmdW198",
        "colab_type": "code",
        "colab": {}
      },
      "source": [
        "model3.fit(X,Y) #model3의 학습 및 구성요소 확인"
      ],
      "execution_count": null,
      "outputs": []
    },
    {
      "cell_type": "code",
      "metadata": {
        "id": "o4w_p4YgXB_7",
        "colab_type": "code",
        "colab": {}
      },
      "source": [
        "PlotSVM2D(X, Y, model=model3, title='RBF SVM') # RBF SVM이라는 제목의 model3 출력"
      ],
      "execution_count": null,
      "outputs": []
    },
    {
      "cell_type": "markdown",
      "metadata": {
        "id": "1GXfiNjQyj-a",
        "colab_type": "text"
      },
      "source": [
        "# x3=x1x1+ x2x2의 수식에 대한 자신의 생각\n",
        "\n",
        "높이라는 기준을 통해 2차원에 존재하는 데이터를 3차원의 데이터로 확장시켜 데이터와 원점사이간의 거리를 구할 수 있다. 데이터 그림을 회전시켜보면 포물선 형태로 지나가게 되는데 이는 x1, x2값이 음수나 양수에 상관없이 높이를 표현해야 하므로 각각 제곱된 형태로 더해줘야한다. 공간에 있는 데이터 좌표를 원점(0,0)이 존재하는 임의의 평면에 수직형태로 수선의 발을 내려 높이를 표현할 수 있다."
      ]
    },
    {
      "cell_type": "markdown",
      "metadata": {
        "id": "BcPwKQZVfz7k",
        "colab_type": "text"
      },
      "source": [
        "# 아래의 새로운 feature (x3)외에 다른 feature를 사용하는 경우\n",
        "\n",
        "공간에서 좌표와 원점에 관련된 길이를 이용하여 높이를 표현하려면, 공간벡터의 개념을 사용해서 표현할 수 있을 것 같다. 공간에 존재하는 각각의 데이터를 원점이 존재하는 평면에 수선의 발을 내린다. 공간에 있던 좌표가 원점과 동일한 평면위에 존재하므로 두 점사이간의 기울기를 구할 수 있다. 예를 들어 동일한 기울기에 존재하는 두 점 A(x1,y1)과 B(x2,y2)가 있다. 이때 점 B를 (px1,py1)이라고 표현할 수 있다. 이때 p는 점 A보다 점B가 원점으로부터 멀리 있으면 P>1이고 그 반대이면 P<1이다. 이를 통해 기울기가 같은 경우와 다른경우를 나타내는 코드와 공간벡터를 표현하고 거리를 계산하는 코드를 이용하여 높이를 표현할 수 있을 것이다. \n",
        "    "
      ]
    }
  ]
}