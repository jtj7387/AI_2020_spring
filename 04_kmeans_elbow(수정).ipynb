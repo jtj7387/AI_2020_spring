{
  "nbformat": 4,
  "nbformat_minor": 0,
  "metadata": {
    "colab": {
      "name": "04_kmeans_elbow(수정).ipynb",
      "provenance": [],
      "collapsed_sections": [],
      "authorship_tag": "ABX9TyOz40Z+DaBHxOseSoOaheXe",
      "include_colab_link": true
    },
    "kernelspec": {
      "name": "python3",
      "display_name": "Python 3"
    }
  },
  "cells": [
    {
      "cell_type": "markdown",
      "metadata": {
        "id": "view-in-github",
        "colab_type": "text"
      },
      "source": [
        "<a href=\"https://colab.research.google.com/github/jtj7387/AI_2020_spring/blob/master/04_kmeans_elbow(%EC%88%98%EC%A0%95).ipynb\" target=\"_parent\"><img src=\"https://colab.research.google.com/assets/colab-badge.svg\" alt=\"Open In Colab\"/></a>"
      ]
    },
    {
      "cell_type": "code",
      "metadata": {
        "id": "uf-XgBLz6KFw",
        "colab_type": "code",
        "colab": {}
      },
      "source": [
        "import matplotlib.pyplot as plt # 다음과 같은 명령어로 그림을 그릴 수 있다.\n",
        "from sklearn.cluster import KMeans  #데이터를 처리하고 사용되는 외부 라이브러리 sklearn\n",
        "from sklearn.datasets.samples_generator import make_blobs # sklearn에 있는 datasets의 샘플 생성기 중 덩어리를 만드는 기능을 불러온다.\n",
        "import numpy as np  #numpy를 np로 지칭                         "
      ],
      "execution_count": 13,
      "outputs": []
    },
    {
      "cell_type": "code",
      "metadata": {
        "id": "0VDzhlw46SlT",
        "colab_type": "code",
        "colab": {}
      },
      "source": [
        "data, _ = make_blobs(n_samples=1000, centers=5, cluster_std=0.60, random_state=0) # "
      ],
      "execution_count": 14,
      "outputs": []
    },
    {
      "cell_type": "code",
      "metadata": {
        "id": "NM39_klF6aDm",
        "colab_type": "code",
        "colab": {
          "base_uri": "https://localhost:8080/",
          "height": 36
        },
        "outputId": "89cb2e1b-2e72-43f4-ecc0-0d29c01d025b"
      },
      "source": [
        "data.shape #data의 형태를 확인한다"
      ],
      "execution_count": 15,
      "outputs": [
        {
          "output_type": "execute_result",
          "data": {
            "text/plain": [
              "(1000, 2)"
            ]
          },
          "metadata": {
            "tags": []
          },
          "execution_count": 15
        }
      ]
    },
    {
      "cell_type": "code",
      "metadata": {
        "id": "WOfBpgHQ6mZy",
        "colab_type": "code",
        "colab": {
          "base_uri": "https://localhost:8080/",
          "height": 73
        },
        "outputId": "0a47e628-87e0-4f6c-8e6c-6c12d580745a"
      },
      "source": [
        " \n",
        "kmeans = KMeans(n_clusters=5)\n",
        "kmeans.fit(data) # cluster를 진행하는데 걸리는 시간을 의미"
      ],
      "execution_count": 16,
      "outputs": [
        {
          "output_type": "execute_result",
          "data": {
            "text/plain": [
              "KMeans(algorithm='auto', copy_x=True, init='k-means++', max_iter=300,\n",
              "       n_clusters=5, n_init=10, n_jobs=None, precompute_distances='auto',\n",
              "       random_state=None, tol=0.0001, verbose=0)"
            ]
          },
          "metadata": {
            "tags": []
          },
          "execution_count": 16
        }
      ]
    },
    {
      "cell_type": "code",
      "metadata": {
        "id": "EW0LuR_-6qlK",
        "colab_type": "code",
        "colab": {
          "base_uri": "https://localhost:8080/",
          "height": 111
        },
        "outputId": "4ba5f5c4-f952-4fb4-83f1-094b65085ae7"
      },
      "source": [
        "centroids = kmeans.cluster_centers_ # centroids를 다음과 같이 정의한다\n",
        "print(centroids) #cluster의 중심점을 표시한다"
      ],
      "execution_count": 17,
      "outputs": [
        {
          "output_type": "stream",
          "text": [
            "[[ 1.9970182   0.8253682 ]\n",
            " [-1.28588328  7.87003554]\n",
            " [ 9.25676035 -2.33887834]\n",
            " [-1.4494779   2.91731438]\n",
            " [ 0.91291817  4.29862073]]\n"
          ],
          "name": "stdout"
        }
      ]
    },
    {
      "cell_type": "code",
      "metadata": {
        "id": "ANrgmoxa6fpO",
        "colab_type": "code",
        "colab": {
          "base_uri": "https://localhost:8080/",
          "height": 301
        },
        "outputId": "2429e569-6272-4081-f7f6-2a2a0ec8c87a"
      },
      "source": [
        "plt.plot(data[:, 0], data[:, 1], '.') # cluster의 모든 행 중 첫 번째 열, cluster의 모든 행 중 두번째 열\n",
        "plt.plot(centroids[:, 0], centroids[:, 1], 'o') # 중심점을 표현\n",
        "plt.xlabel('X') # X축을 의미\n",
        "plt.ylabel('Y') # Y축을 의미"
      ],
      "execution_count": 18,
      "outputs": [
        {
          "output_type": "execute_result",
          "data": {
            "text/plain": [
              "Text(0, 0.5, 'Y')"
            ]
          },
          "metadata": {
            "tags": []
          },
          "execution_count": 18
        },
        {
          "output_type": "display_data",
          "data": {
            "image/png": "[encoded data removed]",
            "text/plain": [
              "<Figure size 432x288 with 1 Axes>"
            ]
          },
          "metadata": {
            "tags": [],
            "needs_background": "light"
          }
        }
      ]
    },
    {
      "cell_type": "code",
      "metadata": {
        "id": "MR-FGcln7Ohe",
        "colab_type": "code",
        "colab": {
          "base_uri": "https://localhost:8080/",
          "height": 295
        },
        "outputId": "df22fe28-743a-4c81-c498-4a8eb0d6ad40"
      },
      "source": [
        "wcss = []\n",
        "for i in range(1, 6): # cluster의 갯수가 1부터 5까지 넣어 반복했을 때 나오는 결과\n",
        "    kmeans = KMeans(n_clusters=i, init='k-means++', max_iter=300, n_init=10, random_state=0)\n",
        "    kmeans.fit(data)\n",
        "    wcss.append(kmeans.inertia_)\n",
        "plt.plot(range(1, 6), wcss)\n",
        "plt.title('Elbow Method')\n",
        "plt.xlabel('Number of clusters') # X축을 의미\n",
        "plt.ylabel('WCSS') # Y축을 의미\n",
        "plt.show()"
      ],
      "execution_count": 19,
      "outputs": [
        {
          "output_type": "display_data",
          "data": {
            "image/png": "[encoded data removed]",
            "text/plain": [
              "<Figure size 432x288 with 1 Axes>"
            ]
          },
          "metadata": {
            "tags": [],
            "needs_background": "light"
          }
        }
      ]
    },
    {
      "cell_type": "code",
      "metadata": {
        "id": "A5fI49B7OPxm",
        "colab_type": "code",
        "colab": {
          "base_uri": "https://localhost:8080/",
          "height": 36
        },
        "outputId": "e0f4535c-47f2-41b7-f631-42cc0b230c66"
      },
      "source": [
        "kmeans.inertia_ # centroids와 각각의 데이터간의 거리합을 의미"
      ],
      "execution_count": 20,
      "outputs": [
        {
          "output_type": "execute_result",
          "data": {
            "text/plain": [
              "678.2342614002728"
            ]
          },
          "metadata": {
            "tags": []
          },
          "execution_count": 20
        }
      ]
    }
  ]
}