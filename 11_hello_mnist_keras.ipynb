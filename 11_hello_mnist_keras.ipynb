{
  "nbformat": 4,
  "nbformat_minor": 0,
  "metadata": {
    "colab": {
      "name": "11_hello_mnist_keras.ipynb",
      "provenance": [],
      "collapsed_sections": [],
      "authorship_tag": "ABX9TyObqvg9dNbtE/MM5/uOykHN",
      "include_colab_link": true
    },
    "kernelspec": {
      "name": "python3",
      "display_name": "Python 3"
    }
  },
  "cells": [
    {
      "cell_type": "markdown",
      "metadata": {
        "id": "view-in-github",
        "colab_type": "text"
      },
      "source": [
        "<a href=\"https://colab.research.google.com/github/jtj7387/AI_2020_spring/blob/master/11_hello_mnist_keras.ipynb\" target=\"_parent\"><img src=\"https://colab.research.google.com/assets/colab-badge.svg\" alt=\"Open In Colab\"/></a>"
      ]
    },
    {
      "cell_type": "markdown",
      "metadata": {
        "id": "_LSG8Hks5bBS",
        "colab_type": "text"
      },
      "source": [
        "**MNIST 분류기**\n"
      ]
    },
    {
      "cell_type": "code",
      "metadata": {
        "id": "h1Sx4T4E5wU4",
        "colab_type": "code",
        "colab": {
          "base_uri": "https://localhost:8080/",
          "height": 36
        },
        "outputId": "44d22db1-8698-4e5b-d9cc-63f1ebf5e0e6"
      },
      "source": [
        "from keras.datasets import mnist \n",
        "from keras.models import Sequential \n",
        "from keras.layers.core import Dense, Activation \n",
        "from keras.utils import np_utils "
      ],
      "execution_count": 1,
      "outputs": [
        {
          "output_type": "stream",
          "text": [
            "Using TensorFlow backend.\n"
          ],
          "name": "stderr"
        }
      ]
    },
    {
      "cell_type": "code",
      "metadata": {
        "id": "4mBvztMR5yJz",
        "colab_type": "code",
        "colab": {
          "base_uri": "https://localhost:8080/",
          "height": 55
        },
        "outputId": "cfec710c-366a-4bed-a25d-5eb3a08100f9"
      },
      "source": [
        "(X_train, Y_train), (X_test, Y_test) = mnist.load_data() # 데이터 받기"
      ],
      "execution_count": 2,
      "outputs": [
        {
          "output_type": "stream",
          "text": [
            "Downloading data from https://s3.amazonaws.com/img-datasets/mnist.npz\n",
            "11493376/11490434 [==============================] - 2s 0us/step\n"
          ],
          "name": "stdout"
        }
      ]
    },
    {
      "cell_type": "code",
      "metadata": {
        "id": "1cb5kPLq5028",
        "colab_type": "code",
        "colab": {
          "base_uri": "https://localhost:8080/",
          "height": 36
        },
        "outputId": "942ab457-ae17-470c-852e-b9cd032caf2e"
      },
      "source": [
        "X_train.shape # 6만개의 데이터"
      ],
      "execution_count": 3,
      "outputs": [
        {
          "output_type": "execute_result",
          "data": {
            "text/plain": [
              "(60000, 28, 28)"
            ]
          },
          "metadata": {
            "tags": []
          },
          "execution_count": 3
        }
      ]
    },
    {
      "cell_type": "code",
      "metadata": {
        "id": "qHzH8FHN52U7",
        "colab_type": "code",
        "colab": {
          "base_uri": "https://localhost:8080/",
          "height": 36
        },
        "outputId": "ec8f2fec-e862-4885-9118-33dec583ad08"
      },
      "source": [
        "28*28 # 가로,세로가 28픽셀인 이미지 "
      ],
      "execution_count": 4,
      "outputs": [
        {
          "output_type": "execute_result",
          "data": {
            "text/plain": [
              "784"
            ]
          },
          "metadata": {
            "tags": []
          },
          "execution_count": 4
        }
      ]
    },
    {
      "cell_type": "code",
      "metadata": {
        "id": "w8ZLsuoo54Gz",
        "colab_type": "code",
        "colab": {
          "base_uri": "https://localhost:8080/",
          "height": 36
        },
        "outputId": "75a6c7e4-2ea9-411e-8efb-7e47e61ff96d"
      },
      "source": [
        "Y_train.shape"
      ],
      "execution_count": 5,
      "outputs": [
        {
          "output_type": "execute_result",
          "data": {
            "text/plain": [
              "(60000,)"
            ]
          },
          "metadata": {
            "tags": []
          },
          "execution_count": 5
        }
      ]
    },
    {
      "cell_type": "code",
      "metadata": {
        "id": "JqwTRYlB56QM",
        "colab_type": "code",
        "colab": {
          "base_uri": "https://localhost:8080/",
          "height": 36
        },
        "outputId": "e826eee3-53bc-4dc0-a1b6-13b2f2b1c7e5"
      },
      "source": [
        "Y_train[1] # 2번째 값 0"
      ],
      "execution_count": 6,
      "outputs": [
        {
          "output_type": "execute_result",
          "data": {
            "text/plain": [
              "0"
            ]
          },
          "metadata": {
            "tags": []
          },
          "execution_count": 6
        }
      ]
    },
    {
      "cell_type": "code",
      "metadata": {
        "id": "EuI4WKjE58ax",
        "colab_type": "code",
        "colab": {}
      },
      "source": [
        "X_train = X_train.reshape(60000, 784)     \n",
        "X_test = X_test.reshape(10000, 784) \n",
        "X_train = X_train.astype('float32')    \n",
        "X_test = X_test.astype('float32')    \n",
        "X_train /= 255    \n",
        "X_test /= 255"
      ],
      "execution_count": 7,
      "outputs": []
    },
    {
      "cell_type": "code",
      "metadata": {
        "id": "kpppkMtf6Ec3",
        "colab_type": "code",
        "colab": {
          "base_uri": "https://localhost:8080/",
          "height": 36
        },
        "outputId": "69409b40-e855-41df-e24b-000162d57df7"
      },
      "source": [
        "28*28 "
      ],
      "execution_count": 8,
      "outputs": [
        {
          "output_type": "execute_result",
          "data": {
            "text/plain": [
              "784"
            ]
          },
          "metadata": {
            "tags": []
          },
          "execution_count": 8
        }
      ]
    },
    {
      "cell_type": "code",
      "metadata": {
        "id": "e5MQR1bB6GbB",
        "colab_type": "code",
        "colab": {
          "base_uri": "https://localhost:8080/",
          "height": 36
        },
        "outputId": "071df502-6b5f-48c9-dd09-61f5b4c03fb5"
      },
      "source": [
        "Y_train[3] # 정답"
      ],
      "execution_count": 9,
      "outputs": [
        {
          "output_type": "execute_result",
          "data": {
            "text/plain": [
              "1"
            ]
          },
          "metadata": {
            "tags": []
          },
          "execution_count": 9
        }
      ]
    },
    {
      "cell_type": "code",
      "metadata": {
        "id": "Zt6U-qZH6Hy9",
        "colab_type": "code",
        "colab": {}
      },
      "source": [
        "classes = 10 # 10가지 숫자 학습\n",
        "Y_train = np_utils.to_categorical(Y_train, classes)    \n",
        "Y_test = np_utils.to_categorical(Y_test, classes) "
      ],
      "execution_count": 10,
      "outputs": []
    },
    {
      "cell_type": "code",
      "metadata": {
        "id": "wmOMQGk26MNv",
        "colab_type": "code",
        "colab": {
          "base_uri": "https://localhost:8080/",
          "height": 36
        },
        "outputId": "b550fdc2-d049-4bb6-bcec-727f44738cdc"
      },
      "source": [
        "Y_train[3] # 컴퓨터의 학습형태, 확률을 보여줌"
      ],
      "execution_count": 11,
      "outputs": [
        {
          "output_type": "execute_result",
          "data": {
            "text/plain": [
              "array([0., 1., 0., 0., 0., 0., 0., 0., 0., 0.], dtype=float32)"
            ]
          },
          "metadata": {
            "tags": []
          },
          "execution_count": 11
        }
      ]
    },
    {
      "cell_type": "code",
      "metadata": {
        "id": "0EcKi6y16NyB",
        "colab_type": "code",
        "colab": {}
      },
      "source": [
        "input_size = 784 # 입력값\n",
        "batch_size = 100   \n",
        "hidden_neurons = 400    \n",
        "epochs = 5 # 5번만 학습"
      ],
      "execution_count": 12,
      "outputs": []
    },
    {
      "cell_type": "markdown",
      "metadata": {
        "id": "qqeqXoXOA95p",
        "colab_type": "text"
      },
      "source": [
        "Hidden neuron이 있는 모델(정확도:98%)"
      ]
    },
    {
      "cell_type": "code",
      "metadata": {
        "id": "5ongbHuv6PeJ",
        "colab_type": "code",
        "colab": {}
      },
      "source": [
        "model = Sequential()     \n",
        " \n",
        "# 아래 test_mode 를 변경(0-->1, 혹은 1-->0)하고 해보세요. 마지막 정확도가 변하는지 확인해보세요 \n",
        "\n",
        "test_mode = 0\n",
        " \n",
        "if test_mode ==0:    \n",
        "  model.add(Dense(hidden_neurons, input_dim=input_size))     \n",
        "  model.add(Activation('relu'))         \n",
        "  model.add(Dense(classes)) # classes는 10     \n",
        "  model.add(Activation('softmax')) \n",
        "  \n",
        "else:    \n",
        "  model.add(Dense(classes, input_dim=input_size))    \n",
        "  model.add(Activation('softmax'))\n",
        "\n"
      ],
      "execution_count": 13,
      "outputs": []
    },
    {
      "cell_type": "code",
      "metadata": {
        "id": "8Mjd1oq5BV1Q",
        "colab_type": "code",
        "colab": {
          "base_uri": "https://localhost:8080/",
          "height": 533
        },
        "outputId": "b5f198a8-a21a-4c3d-cdcd-bb5d2397d5d7"
      },
      "source": [
        "# 모델 그려주는 코드\n",
        "# 784개를 넣어서 10개를  추출\n",
        "# hidden neuron 이 있기 때문에 성능이 아래 모델보다 더 좋다.\n",
        "from keras.utils import plot_model \n",
        "plot_model(model, to_file='model_mnist.png', show_shapes=True)"
      ],
      "execution_count": 14,
      "outputs": [
        {
          "output_type": "execute_result",
          "data": {
            "image/png": "[encoded data removed]",
            "text/plain": [
              "<IPython.core.display.Image object>"
            ]
          },
          "metadata": {
            "tags": []
          },
          "execution_count": 14
        }
      ]
    },
    {
      "cell_type": "code",
      "metadata": {
        "id": "TVrcbJfiBxam",
        "colab_type": "code",
        "colab": {}
      },
      "source": [
        "model.compile(loss='categorical_crossentropy',    \n",
        "              metrics=['accuracy'], optimizer='adadelta')"
      ],
      "execution_count": 15,
      "outputs": []
    },
    {
      "cell_type": "code",
      "metadata": {
        "id": "4a1GhaePByN3",
        "colab_type": "code",
        "colab": {
          "base_uri": "https://localhost:8080/",
          "height": 223
        },
        "outputId": "a3d6c1b7-879b-413c-b1f1-c45a5202fb95"
      },
      "source": [
        "model.fit(X_train, Y_train, batch_size=batch_size, epochs=epochs, verbose=1)\n",
        "#91----------->98"
      ],
      "execution_count": 16,
      "outputs": [
        {
          "output_type": "stream",
          "text": [
            "Epoch 1/5\n",
            "60000/60000 [==============================] - 5s 77us/step - loss: 0.2845 - accuracy: 0.9198\n",
            "Epoch 2/5\n",
            "60000/60000 [==============================] - 4s 73us/step - loss: 0.1232 - accuracy: 0.9641\n",
            "Epoch 3/5\n",
            "60000/60000 [==============================] - 4s 72us/step - loss: 0.0851 - accuracy: 0.9755\n",
            "Epoch 4/5\n",
            "60000/60000 [==============================] - 4s 73us/step - loss: 0.0640 - accuracy: 0.9816\n",
            "Epoch 5/5\n",
            "60000/60000 [==============================] - 4s 73us/step - loss: 0.0505 - accuracy: 0.9854\n"
          ],
          "name": "stdout"
        },
        {
          "output_type": "execute_result",
          "data": {
            "text/plain": [
              "<keras.callbacks.callbacks.History at 0x7f40c0bd8ef0>"
            ]
          },
          "metadata": {
            "tags": []
          },
          "execution_count": 16
        }
      ]
    },
    {
      "cell_type": "code",
      "metadata": {
        "id": "0-8cBgTRB2PK",
        "colab_type": "code",
        "colab": {
          "base_uri": "https://localhost:8080/",
          "height": 73
        },
        "outputId": "f975ca54-8474-4b20-d79c-31129b3098af"
      },
      "source": [
        "score = model.evaluate(X_test, Y_test, verbose=1) \n",
        "print('\\n''Test accuracy:', score[1])\n",
        "#Test accuracy: 98% "
      ],
      "execution_count": 17,
      "outputs": [
        {
          "output_type": "stream",
          "text": [
            "10000/10000 [==============================] - 0s 41us/step\n",
            "\n",
            "Test accuracy: 0.9800999760627747\n"
          ],
          "name": "stdout"
        }
      ]
    },
    {
      "cell_type": "markdown",
      "metadata": {
        "id": "oVVVweywBCmy",
        "colab_type": "text"
      },
      "source": [
        "Hidden neuron이 없는 모델(정확도:92%)\n",
        "-\n",
        "-> 다양한 node(Hidden neuron)가 없기 때문에 성능이 떨어진다. "
      ]
    },
    {
      "cell_type": "code",
      "metadata": {
        "id": "zw2oC33W_rro",
        "colab_type": "code",
        "colab": {}
      },
      "source": [
        "model = Sequential()         \n",
        "model.add(Dense(classes, input_dim=input_size))     \n",
        "model.add(Activation('softmax')) \n"
      ],
      "execution_count": 18,
      "outputs": []
    },
    {
      "cell_type": "code",
      "metadata": {
        "id": "czUN6Bz26ijh",
        "colab_type": "code",
        "colab": {
          "base_uri": "https://localhost:8080/",
          "height": 312
        },
        "outputId": "e36c1004-1620-43a3-fa8d-5a2ed55ee458"
      },
      "source": [
        "# 모델 그려주는 코드\n",
        "# 784개를 넣어서 10개를 바로 추출\n",
        "# hidden neuron 이 없기 때문에 성능이 떨어진다.\n",
        "from keras.utils import plot_model \n",
        "plot_model(model, to_file='model_mnist.png', show_shapes=True)\n"
      ],
      "execution_count": 19,
      "outputs": [
        {
          "output_type": "execute_result",
          "data": {
            "image/png": "[encoded data removed]",
            "text/plain": [
              "<IPython.core.display.Image object>"
            ]
          },
          "metadata": {
            "tags": []
          },
          "execution_count": 19
        }
      ]
    },
    {
      "cell_type": "code",
      "metadata": {
        "id": "-QtvNss86mf2",
        "colab_type": "code",
        "colab": {}
      },
      "source": [
        "model.compile(loss='categorical_crossentropy',    \n",
        "              metrics=['accuracy'], optimizer='adadelta')\n"
      ],
      "execution_count": 20,
      "outputs": []
    },
    {
      "cell_type": "code",
      "metadata": {
        "id": "AVDbUjZs6raa",
        "colab_type": "code",
        "colab": {
          "base_uri": "https://localhost:8080/",
          "height": 223
        },
        "outputId": "a7f059c3-cc1e-4003-b936-7438401da7b7"
      },
      "source": [
        "model.fit(X_train, Y_train, batch_size=batch_size, epochs=epochs, verbose=1)\n",
        "\n",
        "#85------------>91"
      ],
      "execution_count": 21,
      "outputs": [
        {
          "output_type": "stream",
          "text": [
            "Epoch 1/5\n",
            "60000/60000 [==============================] - 1s 17us/step - loss: 0.5940 - accuracy: 0.8523\n",
            "Epoch 2/5\n",
            "60000/60000 [==============================] - 1s 16us/step - loss: 0.3389 - accuracy: 0.9060\n",
            "Epoch 3/5\n",
            "60000/60000 [==============================] - 1s 16us/step - loss: 0.3100 - accuracy: 0.9138\n",
            "Epoch 4/5\n",
            "60000/60000 [==============================] - 1s 16us/step - loss: 0.2966 - accuracy: 0.9174\n",
            "Epoch 5/5\n",
            "60000/60000 [==============================] - 1s 16us/step - loss: 0.2885 - accuracy: 0.9200\n"
          ],
          "name": "stdout"
        },
        {
          "output_type": "execute_result",
          "data": {
            "text/plain": [
              "<keras.callbacks.callbacks.History at 0x7f40c0b0bb38>"
            ]
          },
          "metadata": {
            "tags": []
          },
          "execution_count": 21
        }
      ]
    },
    {
      "cell_type": "code",
      "metadata": {
        "id": "jyO7NBSv6tY8",
        "colab_type": "code",
        "colab": {
          "base_uri": "https://localhost:8080/",
          "height": 73
        },
        "outputId": "5c0bcc68-23a1-433c-ebe6-506f21806e13"
      },
      "source": [
        "score = model.evaluate(X_test, Y_test, verbose=1) \n",
        "print('\\n''Test accuracy:', score[1]) \n",
        "#Test accuracy: 92%"
      ],
      "execution_count": 22,
      "outputs": [
        {
          "output_type": "stream",
          "text": [
            "10000/10000 [==============================] - 0s 19us/step\n",
            "\n",
            "Test accuracy: 0.920199990272522\n"
          ],
          "name": "stdout"
        }
      ]
    }
  ]
}