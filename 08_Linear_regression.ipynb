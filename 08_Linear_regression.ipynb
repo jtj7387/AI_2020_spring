{
  "nbformat": 4,
  "nbformat_minor": 0,
  "metadata": {
    "colab": {
      "name": "08_Linear_regression.ipynb",
      "provenance": [],
      "collapsed_sections": [],
      "authorship_tag": "ABX9TyNgIl3H1w+q1VWiVIdbi1lV",
      "include_colab_link": true
    },
    "kernelspec": {
      "name": "python3",
      "display_name": "Python 3"
    }
  },
  "cells": [
    {
      "cell_type": "markdown",
      "metadata": {
        "id": "view-in-github",
        "colab_type": "text"
      },
      "source": [
        "<a href=\"https://colab.research.google.com/github/jtj7387/AI_2020_spring/blob/master/08_Linear_regression.ipynb\" target=\"_parent\"><img src=\"https://colab.research.google.com/assets/colab-badge.svg\" alt=\"Open In Colab\"/></a>"
      ]
    },
    {
      "cell_type": "markdown",
      "metadata": {
        "id": "MgW3Uj3BN1Wf",
        "colab_type": "text"
      },
      "source": [
        "**Linear Regression**"
      ]
    },
    {
      "cell_type": "code",
      "metadata": {
        "id": "wsQeetNRNA27",
        "colab_type": "code",
        "colab": {
          "base_uri": "https://localhost:8080/",
          "height": 93
        },
        "outputId": "013cd746-1145-461a-a859-5c92628afc77"
      },
      "source": [
        "#import tensorflow as tf \n",
        "import tensorflow.compat.v1 as tf \n",
        "tf.disable_v2_behavior()"
      ],
      "execution_count": 1,
      "outputs": [
        {
          "output_type": "stream",
          "text": [
            "WARNING:tensorflow:From /usr/local/lib/python3.6/dist-packages/tensorflow/python/compat/v2_compat.py:96: disable_resource_variables (from tensorflow.python.ops.variable_scope) is deprecated and will be removed in a future version.\n",
            "Instructions for updating:\n",
            "non-resource variables are not supported in the long term\n"
          ],
          "name": "stdout"
        }
      ]
    },
    {
      "cell_type": "code",
      "metadata": {
        "id": "FUc-jP3BNB8S",
        "colab_type": "code",
        "colab": {}
      },
      "source": [
        "import numpy as np\n",
        "import matplotlib.pyplot as plt"
      ],
      "execution_count": 2,
      "outputs": []
    },
    {
      "cell_type": "code",
      "metadata": {
        "id": "3C-vtB_4NCRb",
        "colab_type": "code",
        "colab": {}
      },
      "source": [
        "x_train = [1, 2, 3] # x축 요소"
      ],
      "execution_count": 3,
      "outputs": []
    },
    {
      "cell_type": "code",
      "metadata": {
        "id": "TjHxL69cNCaO",
        "colab_type": "code",
        "colab": {}
      },
      "source": [
        "y_train = [2+1 +0.1, 4+1 -0.2, 6+1 +0.15] # y축 요소에 자신이 정한 noise를 추가함"
      ],
      "execution_count": 4,
      "outputs": []
    },
    {
      "cell_type": "code",
      "metadata": {
        "id": "xMjYAfjFNChP",
        "colab_type": "code",
        "colab": {
          "base_uri": "https://localhost:8080/",
          "height": 298
        },
        "outputId": "0c995d63-eb8c-44a8-b2e9-873b84c48b07"
      },
      "source": [
        "plt.plot(x_train, y_train,'.-') # x축과 y축을 기준으로 그래프 그린다. \n",
        "plt.xlabel('X') # x축을 X로 설정\n",
        "plt.ylabel('Y') # y축을  Y로 설정"
      ],
      "execution_count": 5,
      "outputs": [
        {
          "output_type": "execute_result",
          "data": {
            "text/plain": [
              "Text(0, 0.5, 'Y')"
            ]
          },
          "metadata": {
            "tags": []
          },
          "execution_count": 5
        },
        {
          "output_type": "display_data",
          "data": {
            "image/png": "[encoded data removed]",
            "text/plain": [
              "<Figure size 432x288 with 1 Axes>"
            ]
          },
          "metadata": {
            "tags": [],
            "needs_background": "light"
          }
        }
      ]
    },
    {
      "cell_type": "markdown",
      "metadata": {
        "id": "L3jhMNO8NTZg",
        "colab_type": "text"
      },
      "source": [
        "y=2x+1\n",
        "\n",
        "y=wx+b\n",
        "\n",
        "완전한 y=2x+1 그래프는 아니다. 내가 설정한 noise에의해 위와 같은 그래프 형태로 나온다."
      ]
    },
    {
      "cell_type": "markdown",
      "metadata": {
        "id": "--KKvjHjOCVh",
        "colab_type": "text"
      },
      "source": [
        "**초기화, initialization**"
      ]
    },
    {
      "cell_type": "code",
      "metadata": {
        "id": "CS7sbGo9NwJZ",
        "colab_type": "code",
        "colab": {}
      },
      "source": [
        "w0 = 5; # 5로 바꿈\n",
        "b0 = -7; # -7으로 바꿈"
      ],
      "execution_count": 6,
      "outputs": []
    },
    {
      "cell_type": "markdown",
      "metadata": {
        "id": "T84eengMOPna",
        "colab_type": "text"
      },
      "source": [
        "**Parameter 설정**"
      ]
    },
    {
      "cell_type": "code",
      "metadata": {
        "id": "KOEHjI0TOTMn",
        "colab_type": "code",
        "colab": {}
      },
      "source": [
        "W = tf.Variable(w0*tf.ones([1]), name='weight') # tf는 tensor flow의 약자 # 컴퓨터가 임의로 찍어냄 # 숫자 1개만을 담는다는 1차원값의 리스트\n",
        "b = tf.Variable(b0*tf.ones([1]), name='bias') "
      ],
      "execution_count": 7,
      "outputs": []
    },
    {
      "cell_type": "markdown",
      "metadata": {
        "id": "KAmBhr4MOsWz",
        "colab_type": "text"
      },
      "source": [
        "**가설 Wx+b**"
      ]
    },
    {
      "cell_type": "code",
      "metadata": {
        "id": "UMnTcS8dOwYk",
        "colab_type": "code",
        "colab": {}
      },
      "source": [
        "hypothesis = x_train * W + b # y=ax+b"
      ],
      "execution_count": 8,
      "outputs": []
    },
    {
      "cell_type": "markdown",
      "metadata": {
        "id": "gOWr2WAeO1xL",
        "colab_type": "text"
      },
      "source": [
        "**Cost & Loss Function**"
      ]
    },
    {
      "cell_type": "code",
      "metadata": {
        "id": "Y0LqgIJkO0Dh",
        "colab_type": "code",
        "colab": {}
      },
      "source": [
        "cost = tf.reduce_mean(tf.square(hypothesis - y_train)) # 선형 회귀 가설 그래프의 y값에서 데이터의 y값을 뺀 값에 제곱하여 오차범위 줄인다.\n",
        "                                                       # cost는 낮을 수록 좋다."
      ],
      "execution_count": 9,
      "outputs": []
    },
    {
      "cell_type": "markdown",
      "metadata": {
        "id": "ltMem1VLO-bB",
        "colab_type": "text"
      },
      "source": [
        "**Optimizer 설정**"
      ]
    },
    {
      "cell_type": "code",
      "metadata": {
        "id": "YAxmgn78O9YI",
        "colab_type": "code",
        "colab": {}
      },
      "source": [
        "optimizer = tf.train.GradientDescentOptimizer(learning_rate=0.01) # Optimizer는 오류를 최소화 시키는 기능. 틀리면 다시 찍어내는 기능\n",
        "#optimizer = tf.compat.v1.train.GradientDescentOptimizer(learning_rate=0.01) # GradientDescentOptimizer는 오류있을시 기울기를 감소하는 기능\n",
        "train = optimizer.minimize(cost)"
      ],
      "execution_count": 10,
      "outputs": []
    },
    {
      "cell_type": "markdown",
      "metadata": {
        "id": "H-0wu6CBPEar",
        "colab_type": "text"
      },
      "source": [
        "**Launch the graph in the session**"
      ]
    },
    {
      "cell_type": "code",
      "metadata": {
        "id": "3-3SPAV6PI-G",
        "colab_type": "code",
        "colab": {}
      },
      "source": [
        "sess = tf.Session() # tf의 머신러닝을 킨다. "
      ],
      "execution_count": 11,
      "outputs": []
    },
    {
      "cell_type": "markdown",
      "metadata": {
        "id": "aZWgU2_2PMs0",
        "colab_type": "text"
      },
      "source": [
        "**Initializes global variables in the graph**"
      ]
    },
    {
      "cell_type": "code",
      "metadata": {
        "id": "zCut3nbGPRit",
        "colab_type": "code",
        "colab": {}
      },
      "source": [
        "sess.run(tf.global_variables_initializer())"
      ],
      "execution_count": 12,
      "outputs": []
    },
    {
      "cell_type": "markdown",
      "metadata": {
        "id": "jut-eM08PUsP",
        "colab_type": "text"
      },
      "source": [
        "**Run**"
      ]
    },
    {
      "cell_type": "code",
      "metadata": {
        "id": "WffqbX45PTf_",
        "colab_type": "code",
        "colab": {}
      },
      "source": [
        "nb_epoch = 2000 # 2000번 반복"
      ],
      "execution_count": 13,
      "outputs": []
    },
    {
      "cell_type": "code",
      "metadata": {
        "id": "mKHxqRdPPY4A",
        "colab_type": "code",
        "colab": {
          "base_uri": "https://localhost:8080/",
          "height": 111
        },
        "outputId": "25d9394f-e300-4962-ec91-7817dba66fc0"
      },
      "source": [
        "for i in range(100): # 기본적인 파이썬 문법\n",
        "  if i % 20 ==0:\n",
        "    print(i)"
      ],
      "execution_count": 14,
      "outputs": [
        {
          "output_type": "stream",
          "text": [
            "0\n",
            "20\n",
            "40\n",
            "60\n",
            "80\n"
          ],
          "name": "stdout"
        }
      ]
    },
    {
      "cell_type": "code",
      "metadata": {
        "id": "U7WAHYaVPfgY",
        "colab_type": "code",
        "colab": {}
      },
      "source": [
        "vw = [] # empty list #vw의 빈 리스트 생성 및 초기화\n",
        "vb = [] # vb의 빈 리스트 생성 및 초기화\n",
        "vcost = [] # vcost의 빈 리스트 생성 및 초기화"
      ],
      "execution_count": 15,
      "outputs": []
    },
    {
      "cell_type": "code",
      "metadata": {
        "id": "zK_6R-ucPgYU",
        "colab_type": "code",
        "colab": {
          "base_uri": "https://localhost:8080/",
          "height": 409
        },
        "outputId": "761fef16-bd57-48b7-f7fd-59b24edd8af8"
      },
      "source": [
        "for step in range(nb_epoch+1): # 2000번 반복, 즉 0~2000번 반복\n",
        "  sess.run(train) # 요소들을 계속 실행한다.\n",
        "  w1 = sess.run(W)[0] # slope 기울기\n",
        "  b1 = sess.run(b)[0] # bias y절편\n",
        "  cost1 = sess.run(cost)\n",
        "  vw.append(w1) # vw리스트에 w1이라는 요소를 추가한다.\n",
        "  vb.append(b1) # vb리스트에 b1이라는 요소를 추가한다.\n",
        "  vcost.append(cost1) # vcost리스트에 cost1이라는 요소를 추가한다.\n",
        "\n",
        "  if step % 100 == 0: # 100번마다 결과 출력\n",
        "     print(step, '--', cost1, '--', w1, '--', b1) # 몇 번 반복/ cost값(작을수록 좋다)/ 기울기 / y절편"
      ],
      "execution_count": 16,
      "outputs": [
        {
          "output_type": "stream",
          "text": [
            "0 -- 9.676142 -- 5.041 -- -6.9596667\n",
            "100 -- 5.351698 -- 4.7059383 -- -5.127744\n",
            "200 -- 3.315993 -- 4.132465 -- -3.8240955\n",
            "300 -- 2.0580504 -- 3.6816592 -- -2.799309\n",
            "400 -- 1.2807183 -- 3.327285 -- -1.9937339\n",
            "500 -- 0.80037403 -- 3.0487149 -- -1.3604779\n",
            "600 -- 0.50355047 -- 2.8297331 -- -0.8626811\n",
            "700 -- 0.32013106 -- 2.6575933 -- -0.47136685\n",
            "800 -- 0.20678939 -- 2.5222764 -- -0.1637587\n",
            "900 -- 0.13675101 -- 2.4159043 -- 0.07804941\n",
            "1000 -- 0.093471676 -- 2.3322866 -- 0.26813212\n",
            "1100 -- 0.066727646 -- 2.2665555 -- 0.41755483\n",
            "1200 -- 0.050201457 -- 2.2148848 -- 0.5350145\n",
            "1300 -- 0.039989278 -- 2.1742666 -- 0.62734836\n",
            "1400 -- 0.0336787 -- 2.142337 -- 0.69993174\n",
            "1500 -- 0.029779235 -- 2.1172378 -- 0.7569886\n",
            "1600 -- 0.027369542 -- 2.097507 -- 0.8018409\n",
            "1700 -- 0.025880553 -- 2.0819974 -- 0.83709884\n",
            "1800 -- 0.024960434 -- 2.0698054 -- 0.86481404\n",
            "1900 -- 0.024391808 -- 2.0602207 -- 0.8866014\n",
            "2000 -- 0.024040477 -- 2.0526867 -- 0.90372825\n"
          ],
          "name": "stdout"
        }
      ]
    },
    {
      "cell_type": "code",
      "metadata": {
        "id": "koUdhHpgQ34l",
        "colab_type": "code",
        "colab": {
          "base_uri": "https://localhost:8080/",
          "height": 55
        },
        "outputId": "9d4f191c-6636-48f0-bd15-8b27b2551bbb"
      },
      "source": [
        "w1 = sess.run(W)[0] # slope 최종 기울기\n",
        "b1 = sess.run(b)[0] # bias 최종 y절편\n",
        "str1 = 'y={:.3}x + {:.3}'.format(w1, b1) # 소수점 2번째까지 표현한다.\n",
        "print(w1, b1)\n",
        "print(str1)"
      ],
      "execution_count": 17,
      "outputs": [
        {
          "output_type": "stream",
          "text": [
            "2.0526867 0.90372825\n",
            "y=2.05x + 0.904\n"
          ],
          "name": "stdout"
        }
      ]
    },
    {
      "cell_type": "code",
      "metadata": {
        "id": "t7PP3ytUQ7Vu",
        "colab_type": "code",
        "colab": {
          "base_uri": "https://localhost:8080/",
          "height": 314
        },
        "outputId": "52b4fdd5-a978-4f57-c578-4b58679c5eee"
      },
      "source": [
        "plt.figure(1)\n",
        "plt.plot(x_train, y_train,'o')\n",
        "x1 = np.min(x_train)-1, np.max(x_train)+1\n",
        "y1 = np.dot(w1,x1) + b1\n",
        "plt.plot(x1, y1)\n",
        "plt.grid()\n",
        "plt.xlabel('epoch') # 2000번 반복\n",
        "plt.title(str1)"
      ],
      "execution_count": 18,
      "outputs": [
        {
          "output_type": "execute_result",
          "data": {
            "text/plain": [
              "Text(0.5, 1.0, 'y=2.05x + 0.904')"
            ]
          },
          "metadata": {
            "tags": []
          },
          "execution_count": 18
        },
        {
          "output_type": "display_data",
          "data": {
            "image/png": "[encoded data removed]",
            "text/plain": [
              "<Figure size 432x288 with 1 Axes>"
            ]
          },
          "metadata": {
            "tags": [],
            "needs_background": "light"
          }
        }
      ]
    },
    {
      "cell_type": "code",
      "metadata": {
        "id": "lUQNhCnMQ94Q",
        "colab_type": "code",
        "colab": {
          "base_uri": "https://localhost:8080/",
          "height": 298
        },
        "outputId": "5caeeda7-7ea7-4ea6-e7b6-c4e2835e1777"
      },
      "source": [
        "plt.plot(vb) # y절편의 추세를 보여주는 그래프\n",
        "plt.grid()\n",
        "plt.xlabel('epoch') "
      ],
      "execution_count": 19,
      "outputs": [
        {
          "output_type": "execute_result",
          "data": {
            "text/plain": [
              "Text(0.5, 0, 'epoch')"
            ]
          },
          "metadata": {
            "tags": []
          },
          "execution_count": 19
        },
        {
          "output_type": "display_data",
          "data": {
            "image/png": "[encoded data removed]",
            "text/plain": [
              "<Figure size 432x288 with 1 Axes>"
            ]
          },
          "metadata": {
            "tags": [],
            "needs_background": "light"
          }
        }
      ]
    },
    {
      "cell_type": "code",
      "metadata": {
        "id": "nM1noFYjRAXH",
        "colab_type": "code",
        "colab": {
          "base_uri": "https://localhost:8080/",
          "height": 284
        },
        "outputId": "d8894627-183d-4d33-98bd-a1629860ae97"
      },
      "source": [
        "plt.plot(vw) # 기울기의 추세를 보여주는 그래프"
      ],
      "execution_count": 20,
      "outputs": [
        {
          "output_type": "execute_result",
          "data": {
            "text/plain": [
              "[<matplotlib.lines.Line2D at 0x7f690fb19e80>]"
            ]
          },
          "metadata": {
            "tags": []
          },
          "execution_count": 20
        },
        {
          "output_type": "display_data",
          "data": {
            "image/png": "[encoded data removed]",
            "text/plain": [
              "<Figure size 432x288 with 1 Axes>"
            ]
          },
          "metadata": {
            "tags": [],
            "needs_background": "light"
          }
        }
      ]
    },
    {
      "cell_type": "code",
      "metadata": {
        "id": "tT4SQv3YRDow",
        "colab_type": "code",
        "colab": {
          "base_uri": "https://localhost:8080/",
          "height": 285
        },
        "outputId": "d15799ef-7ab3-4459-deb8-c3a0c7c0679a"
      },
      "source": [
        "plt.plot(vcost) # cost의 추세를 보여주는 그래프// 코스트는 낮을수록 좋음"
      ],
      "execution_count": 21,
      "outputs": [
        {
          "output_type": "execute_result",
          "data": {
            "text/plain": [
              "[<matplotlib.lines.Line2D at 0x7f690fa86b38>]"
            ]
          },
          "metadata": {
            "tags": []
          },
          "execution_count": 21
        },
        {
          "output_type": "display_data",
          "data": {
            "image/png": "[encoded data removed]",
            "text/plain": [
              "<Figure size 432x288 with 1 Axes>"
            ]
          },
          "metadata": {
            "tags": [],
            "needs_background": "light"
          }
        }
      ]
    }
  ]
}